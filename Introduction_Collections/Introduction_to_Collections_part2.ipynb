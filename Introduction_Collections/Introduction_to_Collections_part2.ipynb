{
  "nbformat": 4,
  "nbformat_minor": 0,
  "metadata": {
    "colab": {
      "name": " Introduction_to_Collections-part2.ipynb",
      "provenance": []
    },
    "kernelspec": {
      "name": "python3",
      "display_name": "Python 3"
    }
  },
  "cells": [
    {
      "cell_type": "markdown",
      "metadata": {
        "id": "5yM4vAkHFRcg",
        "colab_type": "text"
      },
      "source": [
        "# __Chapter 1__ - Sets (Conjunto)"
      ]
    },
    {
      "cell_type": "code",
      "metadata": {
        "id": "EGZrZy1CFKnG",
        "colab_type": "code",
        "colab": {}
      },
      "source": [
        "usuarios_DS = [15, 23, 43, 56]\n",
        "usuarios_ML = [13, 23, 56, 42]"
      ],
      "execution_count": 0,
      "outputs": []
    },
    {
      "cell_type": "code",
      "metadata": {
        "id": "6iT7dgsiLmtU",
        "colab_type": "code",
        "outputId": "85e3d594-7706-4293-be58-5f718d6fef6d",
        "colab": {
          "base_uri": "https://localhost:8080/",
          "height": 33
        }
      },
      "source": [
        "assistiram = usuarios_DS.copy()\n",
        "assistiram.extend(usuarios_ML)\n",
        "assistiram # Elementos 23 e 56 repetidos"
      ],
      "execution_count": 0,
      "outputs": [
        {
          "output_type": "execute_result",
          "data": {
            "text/plain": [
              "[15, 23, 43, 56, 13, 23, 56, 42]"
            ]
          },
          "metadata": {
            "tags": []
          },
          "execution_count": 6
        }
      ]
    },
    {
      "cell_type": "code",
      "metadata": {
        "id": "lSO956wrL11S",
        "colab_type": "code",
        "outputId": "97975799-ee15-406d-b9a3-186da97131bc",
        "colab": {
          "base_uri": "https://localhost:8080/",
          "height": 33
        }
      },
      "source": [
        "len(assistiram)"
      ],
      "execution_count": 0,
      "outputs": [
        {
          "output_type": "execute_result",
          "data": {
            "text/plain": [
              "8"
            ]
          },
          "metadata": {
            "tags": []
          },
          "execution_count": 7
        }
      ]
    },
    {
      "cell_type": "code",
      "metadata": {
        "id": "PUJFPvfyN9XC",
        "colab_type": "code",
        "outputId": "ec9dd78f-da1e-4327-8475-bdb160612cd9",
        "colab": {
          "base_uri": "https://localhost:8080/",
          "height": 33
        }
      },
      "source": [
        "set(assistiram) # Elimina os elementos repetidos"
      ],
      "execution_count": 0,
      "outputs": [
        {
          "output_type": "execute_result",
          "data": {
            "text/plain": [
              "{13, 15, 23, 42, 43, 56}"
            ]
          },
          "metadata": {
            "tags": []
          },
          "execution_count": 8
        }
      ]
    },
    {
      "cell_type": "code",
      "metadata": {
        "id": "5jGcFD58OR4I",
        "colab_type": "code",
        "outputId": "a977971e-0f7d-4d0b-b2de-90d24f58598f",
        "colab": {
          "base_uri": "https://localhost:8080/",
          "height": 33
        }
      },
      "source": [
        "set([1, 2, 3, 1, 4, 2, 5, 6, 7, 3]) # \"set\" transforma um iteravel em um CONJUNTO"
      ],
      "execution_count": 0,
      "outputs": [
        {
          "output_type": "execute_result",
          "data": {
            "text/plain": [
              "{1, 2, 3, 4, 5, 6, 7}"
            ]
          },
          "metadata": {
            "tags": []
          },
          "execution_count": 9
        }
      ]
    },
    {
      "cell_type": "code",
      "metadata": {
        "id": "oQlek0wPPMd9",
        "colab_type": "code",
        "outputId": "f20ece8b-86bc-4f02-eca8-18e063e3f679",
        "colab": {
          "base_uri": "https://localhost:8080/",
          "height": 50
        }
      },
      "source": [
        "print(type({4,1,2,5,3}))\n",
        "{4,1,2,5,3} # a ordem não importa em um Conjunto"
      ],
      "execution_count": 0,
      "outputs": [
        {
          "output_type": "stream",
          "text": [
            "<class 'set'>\n"
          ],
          "name": "stdout"
        },
        {
          "output_type": "execute_result",
          "data": {
            "text/plain": [
              "{1, 2, 3, 4, 5}"
            ]
          },
          "metadata": {
            "tags": []
          },
          "execution_count": 13
        }
      ]
    },
    {
      "cell_type": "code",
      "metadata": {
        "id": "vO9Za3UNPPw4",
        "colab_type": "code",
        "colab": {}
      },
      "source": [
        "usuarios_DS = {15, 23, 43, 56}\n",
        "usuarios_ML = {13, 23, 56, 42}"
      ],
      "execution_count": 0,
      "outputs": []
    },
    {
      "cell_type": "code",
      "metadata": {
        "id": "1waUs7-ZPiZ3",
        "colab_type": "code",
        "outputId": "bf02f78d-1b65-4e03-ce32-f5665eefc002",
        "colab": {
          "base_uri": "https://localhost:8080/",
          "height": 158
        }
      },
      "source": [
        "usuarios_DS[3] # Não existe posição em um Conjunto (set)"
      ],
      "execution_count": 0,
      "outputs": [
        {
          "output_type": "error",
          "ename": "TypeError",
          "evalue": "ignored",
          "traceback": [
            "\u001b[0;31m---------------------------------------------------------------------------\u001b[0m",
            "\u001b[0;31mTypeError\u001b[0m                                 Traceback (most recent call last)",
            "\u001b[0;32m<ipython-input-15-3519914fe71a>\u001b[0m in \u001b[0;36m<module>\u001b[0;34m()\u001b[0m\n\u001b[0;32m----> 1\u001b[0;31m \u001b[0musuarios_DS\u001b[0m\u001b[0;34m[\u001b[0m\u001b[0;36m3\u001b[0m\u001b[0;34m]\u001b[0m\u001b[0;34m\u001b[0m\u001b[0;34m\u001b[0m\u001b[0m\n\u001b[0m",
            "\u001b[0;31mTypeError\u001b[0m: 'set' object does not support indexing"
          ]
        }
      ]
    },
    {
      "cell_type": "code",
      "metadata": {
        "id": "HJt1_8ItPq-U",
        "colab_type": "code",
        "outputId": "bdea8d2a-546f-40b9-f8a3-3ea55b355219",
        "colab": {
          "base_uri": "https://localhost:8080/",
          "height": 115
        }
      },
      "source": [
        "for usuario in set(assistiram):\n",
        "  print(usuario)"
      ],
      "execution_count": 0,
      "outputs": [
        {
          "output_type": "stream",
          "text": [
            "42\n",
            "43\n",
            "13\n",
            "15\n",
            "23\n",
            "56\n"
          ],
          "name": "stdout"
        }
      ]
    },
    {
      "cell_type": "code",
      "metadata": {
        "id": "d_Od1ovoQEK8",
        "colab_type": "code",
        "outputId": "789fd39f-078c-4340-870a-0e087fbd0992",
        "colab": {
          "base_uri": "https://localhost:8080/",
          "height": 33
        }
      },
      "source": [
        "usuarios_DS = {15, 23, 43, 56}\n",
        "usuarios_ML = {13, 23, 56, 42}\n",
        "\n",
        "usuarios_DS | usuarios_ML # \"|\" = operação de UNION quando trabalhamos com conjuntos"
      ],
      "execution_count": 0,
      "outputs": [
        {
          "output_type": "execute_result",
          "data": {
            "text/plain": [
              "{13, 15, 23, 42, 43, 56}"
            ]
          },
          "metadata": {
            "tags": []
          },
          "execution_count": 17
        }
      ]
    },
    {
      "cell_type": "code",
      "metadata": {
        "id": "vLc6PLACQbLc",
        "colab_type": "code",
        "outputId": "284b69ee-3907-47bc-f48e-71f3d06e15c9",
        "colab": {
          "base_uri": "https://localhost:8080/",
          "height": 33
        }
      },
      "source": [
        "usuarios_DS & usuarios_ML # \"&\" = operação de INTERSECSÃO quando são \"sets\""
      ],
      "execution_count": 0,
      "outputs": [
        {
          "output_type": "execute_result",
          "data": {
            "text/plain": [
              "{23, 56}"
            ]
          },
          "metadata": {
            "tags": []
          },
          "execution_count": 18
        }
      ]
    },
    {
      "cell_type": "code",
      "metadata": {
        "id": "VtG-gx8OQ8iy",
        "colab_type": "code",
        "outputId": "a4ea6b30-81f2-4210-c3b8-47d698d3b90a",
        "colab": {
          "base_uri": "https://localhost:8080/",
          "height": 33
        }
      },
      "source": [
        "usuarios_DS - usuarios_ML # \"-\" = operação que seleciona elementos do 1º SET que NÃO estão no 2º SET"
      ],
      "execution_count": 0,
      "outputs": [
        {
          "output_type": "execute_result",
          "data": {
            "text/plain": [
              "{15, 43}"
            ]
          },
          "metadata": {
            "tags": []
          },
          "execution_count": 20
        }
      ]
    },
    {
      "cell_type": "code",
      "metadata": {
        "id": "ikhkuCvgRlA5",
        "colab_type": "code",
        "outputId": "d7eb8c00-801f-44bb-84ea-02860930e3bb",
        "colab": {
          "base_uri": "https://localhost:8080/",
          "height": 33
        }
      },
      "source": [
        "fez_DataScient_mas_nao_fez_MachineLearning = usuarios_DS - usuarios_ML\n",
        "15 in fez_DataScient_mas_nao_fez_MachineLearning # \"in\" existe em SET semelhante a listas/tuplas"
      ],
      "execution_count": 0,
      "outputs": [
        {
          "output_type": "execute_result",
          "data": {
            "text/plain": [
              "True"
            ]
          },
          "metadata": {
            "tags": []
          },
          "execution_count": 21
        }
      ]
    },
    {
      "cell_type": "code",
      "metadata": {
        "id": "dkifz2BUSEt3",
        "colab_type": "code",
        "outputId": "6173d4f9-29c0-4951-8fda-d5a6b76a9802",
        "colab": {
          "base_uri": "https://localhost:8080/",
          "height": 33
        }
      },
      "source": [
        "23 in fez_DataScient_mas_nao_fez_MachineLearning"
      ],
      "execution_count": 0,
      "outputs": [
        {
          "output_type": "execute_result",
          "data": {
            "text/plain": [
              "False"
            ]
          },
          "metadata": {
            "tags": []
          },
          "execution_count": 22
        }
      ]
    },
    {
      "cell_type": "code",
      "metadata": {
        "id": "p3TrAiJESapM",
        "colab_type": "code",
        "outputId": "3db8024f-75e7-44a0-837a-52a56baf8ba9",
        "colab": {
          "base_uri": "https://localhost:8080/",
          "height": 33
        }
      },
      "source": [
        "usuarios_DS ^ usuarios_ML # \"^\" (OU EXCLUSIVO) = operação contrária INTERSECSÃO. Elementos do 1º e 2º SET que não estão nos 2 SETS"
      ],
      "execution_count": 0,
      "outputs": [
        {
          "output_type": "execute_result",
          "data": {
            "text/plain": [
              "{13, 15, 42, 43}"
            ]
          },
          "metadata": {
            "tags": []
          },
          "execution_count": 23
        }
      ]
    },
    {
      "cell_type": "markdown",
      "metadata": {
        "id": "x9dKo0zGTfdg",
        "colab_type": "text"
      },
      "source": [
        "# __Chapter 2__ - Operation with Sets (Conjuntos)"
      ]
    },
    {
      "cell_type": "code",
      "metadata": {
        "id": "Fv6TaoM0S_c7",
        "colab_type": "code",
        "outputId": "bd401ac6-6df9-4269-8765-94b976c75487",
        "colab": {
          "base_uri": "https://localhost:8080/",
          "height": 33
        }
      },
      "source": [
        "usuarios = {1, 5, 76, 34, 52, 13, 17}\n",
        "len(usuarios)"
      ],
      "execution_count": 0,
      "outputs": [
        {
          "output_type": "execute_result",
          "data": {
            "text/plain": [
              "7"
            ]
          },
          "metadata": {
            "tags": []
          },
          "execution_count": 31
        }
      ]
    },
    {
      "cell_type": "code",
      "metadata": {
        "id": "whcO6L1yTyT4",
        "colab_type": "code",
        "outputId": "39bc920b-1537-4e94-a4ad-28392ae96313",
        "colab": {
          "base_uri": "https://localhost:8080/",
          "height": 33
        }
      },
      "source": [
        "usuarios.add(21)\n",
        "len(usuarios)"
      ],
      "execution_count": 0,
      "outputs": [
        {
          "output_type": "execute_result",
          "data": {
            "text/plain": [
              "8"
            ]
          },
          "metadata": {
            "tags": []
          },
          "execution_count": 32
        }
      ]
    },
    {
      "cell_type": "code",
      "metadata": {
        "id": "i2tyFZlsT8Fv",
        "colab_type": "code",
        "outputId": "4f875151-0504-42e8-edbd-51dec8042448",
        "colab": {
          "base_uri": "https://localhost:8080/",
          "height": 33
        }
      },
      "source": [
        "usuarios.add(76) # Mesmo que use o add, o elemento 76 já existe\n",
        "len(usuarios)"
      ],
      "execution_count": 0,
      "outputs": [
        {
          "output_type": "execute_result",
          "data": {
            "text/plain": [
              "8"
            ]
          },
          "metadata": {
            "tags": []
          },
          "execution_count": 33
        }
      ]
    },
    {
      "cell_type": "code",
      "metadata": {
        "id": "7uFwgIi8UZZ4",
        "colab_type": "code",
        "outputId": "357a8d4f-a874-4ce2-cfb8-5c9c8804b436",
        "colab": {
          "base_uri": "https://localhost:8080/",
          "height": 33
        }
      },
      "source": [
        "usuarios"
      ],
      "execution_count": 0,
      "outputs": [
        {
          "output_type": "execute_result",
          "data": {
            "text/plain": [
              "{1, 5, 13, 17, 21, 34, 52, 76}"
            ]
          },
          "metadata": {
            "tags": []
          },
          "execution_count": 34
        }
      ]
    },
    {
      "cell_type": "code",
      "metadata": {
        "id": "7g-PmiOSUehP",
        "colab_type": "code",
        "outputId": "0dd467a8-ab41-4a7b-e836-3eaa3ec3a6c7",
        "colab": {
          "base_uri": "https://localhost:8080/",
          "height": 33
        }
      },
      "source": [
        "usuarios_frozen = frozenset(usuarios) # \"frozenset\" = Impede de adicionar (add) novos elementos\n",
        "usuarios_frozen"
      ],
      "execution_count": 0,
      "outputs": [
        {
          "output_type": "execute_result",
          "data": {
            "text/plain": [
              "frozenset({1, 5, 13, 17, 21, 34, 52, 76})"
            ]
          },
          "metadata": {
            "tags": []
          },
          "execution_count": 35
        }
      ]
    },
    {
      "cell_type": "code",
      "metadata": {
        "id": "AhBncga8Uqrh",
        "colab_type": "code",
        "outputId": "d367f12c-f778-4b4e-cb64-832dafb13cb5",
        "colab": {
          "base_uri": "https://localhost:8080/",
          "height": 33
        }
      },
      "source": [
        "type(usuarios_frozen)"
      ],
      "execution_count": 0,
      "outputs": [
        {
          "output_type": "execute_result",
          "data": {
            "text/plain": [
              "frozenset"
            ]
          },
          "metadata": {
            "tags": []
          },
          "execution_count": 36
        }
      ]
    },
    {
      "cell_type": "code",
      "metadata": {
        "id": "2-d7XCtPUzr4",
        "colab_type": "code",
        "outputId": "3e7be3cf-531a-4dbf-a063-45e11bb73ab7",
        "colab": {
          "base_uri": "https://localhost:8080/",
          "height": 158
        }
      },
      "source": [
        "usuarios_frozen.add(123)"
      ],
      "execution_count": 0,
      "outputs": [
        {
          "output_type": "error",
          "ename": "AttributeError",
          "evalue": "ignored",
          "traceback": [
            "\u001b[0;31m---------------------------------------------------------------------------\u001b[0m",
            "\u001b[0;31mAttributeError\u001b[0m                            Traceback (most recent call last)",
            "\u001b[0;32m<ipython-input-39-2a1b74d3640f>\u001b[0m in \u001b[0;36m<module>\u001b[0;34m()\u001b[0m\n\u001b[0;32m----> 1\u001b[0;31m \u001b[0musuarios_frozen\u001b[0m\u001b[0;34m.\u001b[0m\u001b[0madd\u001b[0m\u001b[0;34m(\u001b[0m\u001b[0;36m123\u001b[0m\u001b[0;34m)\u001b[0m\u001b[0;34m\u001b[0m\u001b[0;34m\u001b[0m\u001b[0m\n\u001b[0m",
            "\u001b[0;31mAttributeError\u001b[0m: 'frozenset' object has no attribute 'add'"
          ]
        }
      ]
    },
    {
      "cell_type": "code",
      "metadata": {
        "id": "qwLzw3keVBKI",
        "colab_type": "code",
        "outputId": "00c0f2c5-1d9a-43ab-e19b-ff9692d0acc2",
        "colab": {
          "base_uri": "https://localhost:8080/",
          "height": 342
        }
      },
      "source": [
        "meu_texto = \"Bem vindo meu nome e Levy eu gosto muito de video game e tenho cachorro e gosto muito de cachorro\"\n",
        "meu_texto.split()"
      ],
      "execution_count": 0,
      "outputs": [
        {
          "output_type": "execute_result",
          "data": {
            "text/plain": [
              "['Bem',\n",
              " 'vindo',\n",
              " 'meu',\n",
              " 'nome',\n",
              " 'e',\n",
              " 'Levy',\n",
              " 'eu',\n",
              " 'gosto',\n",
              " 'muito',\n",
              " 'de',\n",
              " 'video',\n",
              " 'game',\n",
              " 'e',\n",
              " 'tenho',\n",
              " 'cachorro',\n",
              " 'e',\n",
              " 'gosto',\n",
              " 'muito',\n",
              " 'de',\n",
              " 'cachorro']"
            ]
          },
          "metadata": {
            "tags": []
          },
          "execution_count": 42
        }
      ]
    },
    {
      "cell_type": "code",
      "metadata": {
        "id": "mU8NcnEqWBkY",
        "colab_type": "code",
        "outputId": "51ed098e-0a8f-4db7-aa99-d6bc26b90168",
        "colab": {
          "base_uri": "https://localhost:8080/",
          "height": 245
        }
      },
      "source": [
        "set(meu_texto.split())"
      ],
      "execution_count": 0,
      "outputs": [
        {
          "output_type": "execute_result",
          "data": {
            "text/plain": [
              "{'Bem',\n",
              " 'Levy',\n",
              " 'cachorro',\n",
              " 'de',\n",
              " 'e',\n",
              " 'eu',\n",
              " 'game',\n",
              " 'gosto',\n",
              " 'meu',\n",
              " 'muito',\n",
              " 'nome',\n",
              " 'tenho',\n",
              " 'video',\n",
              " 'vindo'}"
            ]
          },
          "metadata": {
            "tags": []
          },
          "execution_count": 43
        }
      ]
    },
    {
      "cell_type": "markdown",
      "metadata": {
        "id": "5_T2EvmDWlYK",
        "colab_type": "text"
      },
      "source": [
        "# __Chapter 3__ - Dictionaries (maps, etc...)"
      ]
    },
    {
      "cell_type": "code",
      "metadata": {
        "id": "_degEwNJXal_",
        "colab_type": "code",
        "outputId": "a7f0dee4-2b1e-4793-adbd-e70d70fc3dc8",
        "colab": {
          "base_uri": "https://localhost:8080/",
          "height": 33
        }
      },
      "source": [
        "aparicoes = {\n",
        "  \"Levy\" : 1,\n",
        "  \"cachorro\" : 2,\n",
        "  \"nome\" : 1,\n",
        "  \"muito\" : 2\n",
        "}\n",
        "type(aparicoes)"
      ],
      "execution_count": 0,
      "outputs": [
        {
          "output_type": "execute_result",
          "data": {
            "text/plain": [
              "dict"
            ]
          },
          "metadata": {
            "tags": []
          },
          "execution_count": 45
        }
      ]
    },
    {
      "cell_type": "code",
      "metadata": {
        "id": "Hh9LZpRHWQfI",
        "colab_type": "code",
        "outputId": "622972e6-6136-46d5-c0c5-86d85f6449f0",
        "colab": {
          "base_uri": "https://localhost:8080/",
          "height": 50
        }
      },
      "source": [
        "print(aparicoes[\"cachorro\"])\n",
        "aparicoes[\"Levy\"] #acessa o valor da chave \"Levy\""
      ],
      "execution_count": 0,
      "outputs": [
        {
          "output_type": "stream",
          "text": [
            "2\n"
          ],
          "name": "stdout"
        },
        {
          "output_type": "execute_result",
          "data": {
            "text/plain": [
              "1"
            ]
          },
          "metadata": {
            "tags": []
          },
          "execution_count": 47
        }
      ]
    },
    {
      "cell_type": "code",
      "metadata": {
        "id": "yLeGaJZbX3JB",
        "colab_type": "code",
        "outputId": "70f7ceac-f522-4beb-e319-ffa3eb249f92",
        "colab": {
          "base_uri": "https://localhost:8080/",
          "height": 158
        }
      },
      "source": [
        "aparicoes[\"xpto\"]"
      ],
      "execution_count": 0,
      "outputs": [
        {
          "output_type": "error",
          "ename": "KeyError",
          "evalue": "ignored",
          "traceback": [
            "\u001b[0;31m---------------------------------------------------------------------------\u001b[0m",
            "\u001b[0;31mKeyError\u001b[0m                                  Traceback (most recent call last)",
            "\u001b[0;32m<ipython-input-48-5844a27a46e4>\u001b[0m in \u001b[0;36m<module>\u001b[0;34m()\u001b[0m\n\u001b[0;32m----> 1\u001b[0;31m \u001b[0maparicoes\u001b[0m\u001b[0;34m[\u001b[0m\u001b[0;34m\"xpto\"\u001b[0m\u001b[0;34m]\u001b[0m\u001b[0;34m\u001b[0m\u001b[0;34m\u001b[0m\u001b[0m\n\u001b[0m",
            "\u001b[0;31mKeyError\u001b[0m: 'xpto'"
          ]
        }
      ]
    },
    {
      "cell_type": "code",
      "metadata": {
        "id": "pbl_G5-hYEdL",
        "colab_type": "code",
        "outputId": "fa828881-e137-47b5-ba99-c301c0350c96",
        "colab": {
          "base_uri": "https://localhost:8080/",
          "height": 33
        }
      },
      "source": [
        "aparicoes.get(\"xpto\", 0) # 'get'=busca a chave informada (\"xpto\") e, CASO Ñ ExISTA, retorna o valor informado (0)"
      ],
      "execution_count": 0,
      "outputs": [
        {
          "output_type": "execute_result",
          "data": {
            "text/plain": [
              "0"
            ]
          },
          "metadata": {
            "tags": []
          },
          "execution_count": 49
        }
      ]
    },
    {
      "cell_type": "code",
      "metadata": {
        "id": "z6iR8wVbYhIz",
        "colab_type": "code",
        "outputId": "be99ac4c-50a4-4a0b-95ac-78274540f0a4",
        "colab": {
          "base_uri": "https://localhost:8080/",
          "height": 33
        }
      },
      "source": [
        "aparicoes.get(\"cachorro\", 0)"
      ],
      "execution_count": 0,
      "outputs": [
        {
          "output_type": "execute_result",
          "data": {
            "text/plain": [
              "2"
            ]
          },
          "metadata": {
            "tags": []
          },
          "execution_count": 50
        }
      ]
    },
    {
      "cell_type": "code",
      "metadata": {
        "id": "YQgceWlCYoeL",
        "colab_type": "code",
        "outputId": "a2c2310b-707d-414d-c21d-1874c6ffd16c",
        "colab": {
          "base_uri": "https://localhost:8080/",
          "height": 50
        }
      },
      "source": [
        "aparicoes = dict(Levy = 1, cachorro = 2, nome = 1, muito = 2)\n",
        "print(aparicoes)\n",
        "type(aparicoes)"
      ],
      "execution_count": 0,
      "outputs": [
        {
          "output_type": "stream",
          "text": [
            "{'Levy': 1, 'cachorro': 2, 'nome': 1, 'muito': 2}\n"
          ],
          "name": "stdout"
        },
        {
          "output_type": "execute_result",
          "data": {
            "text/plain": [
              "dict"
            ]
          },
          "metadata": {
            "tags": []
          },
          "execution_count": 51
        }
      ]
    },
    {
      "cell_type": "code",
      "metadata": {
        "id": "IBYldmfVZB4j",
        "colab_type": "code",
        "colab": {}
      },
      "source": [
        "aparicoes = {\n",
        "  \"Levy\" : 1,\n",
        "  \"cachorro\" : 2,\n",
        "  \"nome\" : 1,\n",
        "  \"muito\" : 2\n",
        "}"
      ],
      "execution_count": 0,
      "outputs": []
    },
    {
      "cell_type": "code",
      "metadata": {
        "id": "a_K19V9WZO9h",
        "colab_type": "code",
        "outputId": "63f474b1-99ef-4069-ed80-d8488ff44111",
        "colab": {
          "base_uri": "https://localhost:8080/",
          "height": 33
        }
      },
      "source": [
        "aparicoes[\"Marina\"] = 123 # Adiciona novos elementos ao Dicionário\n",
        "aparicoes"
      ],
      "execution_count": 0,
      "outputs": [
        {
          "output_type": "execute_result",
          "data": {
            "text/plain": [
              "{'Levy': 1, 'Marina': 123, 'cachorro': 2, 'muito': 2, 'nome': 1}"
            ]
          },
          "metadata": {
            "tags": []
          },
          "execution_count": 55
        }
      ]
    },
    {
      "cell_type": "code",
      "metadata": {
        "id": "VoXiFjvUZVKL",
        "colab_type": "code",
        "outputId": "2d9a1232-111e-4c34-e5f4-8bfd64931148",
        "colab": {
          "base_uri": "https://localhost:8080/",
          "height": 33
        }
      },
      "source": [
        "aparicoes[\"Marina\"] = 321 # Substitui o valor de um elementos do Dicionário\n",
        "aparicoes"
      ],
      "execution_count": 0,
      "outputs": [
        {
          "output_type": "execute_result",
          "data": {
            "text/plain": [
              "{'Levy': 1, 'Marina': 321, 'cachorro': 2, 'muito': 2, 'nome': 1}"
            ]
          },
          "metadata": {
            "tags": []
          },
          "execution_count": 56
        }
      ]
    },
    {
      "cell_type": "code",
      "metadata": {
        "id": "gnrSWz2AZV87",
        "colab_type": "code",
        "outputId": "9db5bedd-585a-4dac-f056-7464fea5d6c7",
        "colab": {
          "base_uri": "https://localhost:8080/",
          "height": 33
        }
      },
      "source": [
        "del aparicoes[\"Marina\"] # \"del\" = Deleta um elemento, pela chave do Dicionário\n",
        "aparicoes"
      ],
      "execution_count": 0,
      "outputs": [
        {
          "output_type": "execute_result",
          "data": {
            "text/plain": [
              "{'Levy': 1, 'cachorro': 2, 'muito': 2, 'nome': 1}"
            ]
          },
          "metadata": {
            "tags": []
          },
          "execution_count": 57
        }
      ]
    },
    {
      "cell_type": "code",
      "metadata": {
        "id": "qE82NccSd7kU",
        "colab_type": "code",
        "outputId": "e88b3c2c-8c2f-46f3-8b4d-eb11e46e51c2",
        "colab": {
          "base_uri": "https://localhost:8080/",
          "height": 33
        }
      },
      "source": [
        "\"cachorro\" in aparicoes"
      ],
      "execution_count": 0,
      "outputs": [
        {
          "output_type": "execute_result",
          "data": {
            "text/plain": [
              "True"
            ]
          },
          "metadata": {
            "tags": []
          },
          "execution_count": 58
        }
      ]
    },
    {
      "cell_type": "code",
      "metadata": {
        "id": "UFvwnS82eCiB",
        "colab_type": "code",
        "outputId": "425efce4-8a00-413c-9260-3e2d9a40a131",
        "colab": {
          "base_uri": "https://localhost:8080/",
          "height": 33
        }
      },
      "source": [
        "\"Marina\" in aparicoes"
      ],
      "execution_count": 0,
      "outputs": [
        {
          "output_type": "execute_result",
          "data": {
            "text/plain": [
              "False"
            ]
          },
          "metadata": {
            "tags": []
          },
          "execution_count": 59
        }
      ]
    },
    {
      "cell_type": "code",
      "metadata": {
        "id": "Sm3VfWDceEd6",
        "colab_type": "code",
        "outputId": "36b98aab-703f-4383-921e-ffa462ea84ef",
        "colab": {
          "base_uri": "https://localhost:8080/",
          "height": 82
        }
      },
      "source": [
        "for elemento in aparicoes:\n",
        "  print (elemento)"
      ],
      "execution_count": 0,
      "outputs": [
        {
          "output_type": "stream",
          "text": [
            "Levy\n",
            "cachorro\n",
            "nome\n",
            "muito\n"
          ],
          "name": "stdout"
        }
      ]
    },
    {
      "cell_type": "code",
      "metadata": {
        "id": "79rhWMfFeKao",
        "colab_type": "code",
        "outputId": "ab57dd37-d527-4183-da21-9f2256599663",
        "colab": {
          "base_uri": "https://localhost:8080/",
          "height": 82
        }
      },
      "source": [
        "for elemento in aparicoes.keys():\n",
        "  print (elemento)"
      ],
      "execution_count": 0,
      "outputs": [
        {
          "output_type": "stream",
          "text": [
            "Levy\n",
            "cachorro\n",
            "nome\n",
            "muito\n"
          ],
          "name": "stdout"
        }
      ]
    },
    {
      "cell_type": "code",
      "metadata": {
        "id": "TkcsefrbewIM",
        "colab_type": "code",
        "outputId": "013df2e6-ff66-46e0-d8f1-bca57af8503b",
        "colab": {
          "base_uri": "https://localhost:8080/",
          "height": 82
        }
      },
      "source": [
        "for elemento in aparicoes.values():\n",
        "  print (elemento)"
      ],
      "execution_count": 0,
      "outputs": [
        {
          "output_type": "stream",
          "text": [
            "1\n",
            "2\n",
            "1\n",
            "2\n"
          ],
          "name": "stdout"
        }
      ]
    },
    {
      "cell_type": "code",
      "metadata": {
        "id": "S0MOVihce4U0",
        "colab_type": "code",
        "outputId": "36f47517-4d96-420d-9af8-6c910216e0ec",
        "colab": {
          "base_uri": "https://localhost:8080/",
          "height": 82
        }
      },
      "source": [
        "for chaves in aparicoes.keys():\n",
        "  valor = aparicoes[chaves]\n",
        "  print (chaves, valor)"
      ],
      "execution_count": 0,
      "outputs": [
        {
          "output_type": "stream",
          "text": [
            "Levy 1\n",
            "cachorro 2\n",
            "nome 1\n",
            "muito 2\n"
          ],
          "name": "stdout"
        }
      ]
    },
    {
      "cell_type": "code",
      "metadata": {
        "id": "jF3_xM80fEIY",
        "colab_type": "code",
        "outputId": "abdd4964-7ece-4902-eb29-a6b26887d63b",
        "colab": {
          "base_uri": "https://localhost:8080/",
          "height": 82
        }
      },
      "source": [
        "for elemento in aparicoes.items():\n",
        "  print (elemento)"
      ],
      "execution_count": 0,
      "outputs": [
        {
          "output_type": "stream",
          "text": [
            "('Levy', 1)\n",
            "('cachorro', 2)\n",
            "('nome', 1)\n",
            "('muito', 2)\n"
          ],
          "name": "stdout"
        }
      ]
    },
    {
      "cell_type": "code",
      "metadata": {
        "id": "yO7wGMgofTUM",
        "colab_type": "code",
        "outputId": "d037f046-8a2b-4468-dccc-8e3d5a9767aa",
        "colab": {
          "base_uri": "https://localhost:8080/",
          "height": 82
        }
      },
      "source": [
        "for chave, valor in aparicoes.items():\n",
        "  print (chave, \"=\", valor)"
      ],
      "execution_count": 0,
      "outputs": [
        {
          "output_type": "stream",
          "text": [
            "Levy = 1\n",
            "cachorro = 2\n",
            "nome = 1\n",
            "muito = 2\n"
          ],
          "name": "stdout"
        }
      ]
    },
    {
      "cell_type": "code",
      "metadata": {
        "id": "FIIAX_z8gC3f",
        "colab_type": "code",
        "outputId": "6f02a5d2-135a-473a-e004-7e4e9eaed646",
        "colab": {
          "base_uri": "https://localhost:8080/",
          "height": 33
        }
      },
      "source": [
        "[f\"palavra {chave}\" for chave in aparicoes.keys()]"
      ],
      "execution_count": 0,
      "outputs": [
        {
          "output_type": "execute_result",
          "data": {
            "text/plain": [
              "['palavra Levy', 'palavra cachorro', 'palavra nome', 'palavra muito']"
            ]
          },
          "metadata": {
            "tags": []
          },
          "execution_count": 71
        }
      ]
    },
    {
      "cell_type": "code",
      "metadata": {
        "id": "PB7OR4a7gdJP",
        "colab_type": "code",
        "colab": {}
      },
      "source": [
        ""
      ],
      "execution_count": 0,
      "outputs": []
    },
    {
      "cell_type": "markdown",
      "metadata": {
        "id": "fo_zCW6wheA0",
        "colab_type": "text"
      },
      "source": [
        "# __Chapter 4__ - Variations of dictionaries"
      ]
    },
    {
      "cell_type": "code",
      "metadata": {
        "id": "pFHXaLEYhoUk",
        "colab_type": "code",
        "outputId": "afc973d4-af7e-422d-fcfc-ba56a40a3a7a",
        "colab": {
          "base_uri": "https://localhost:8080/",
          "height": 245
        }
      },
      "source": [
        "meu_texto = \"Bem vindo meu nome e Levy eu gosto muito de video game e tenho cachorro e gosto muito de cachorro\"\n",
        "meu_texto = meu_texto.lower()\n",
        "\n",
        "aparicoes = {}\n",
        "for palavra in meu_texto.split():\n",
        "  ate_agora = aparicoes.get(palavra, 0)\n",
        "  aparicoes[palavra] = ate_agora + 1\n",
        "\n",
        "aparicoes"
      ],
      "execution_count": 0,
      "outputs": [
        {
          "output_type": "execute_result",
          "data": {
            "text/plain": [
              "{'bem': 1,\n",
              " 'cachorro': 2,\n",
              " 'de': 2,\n",
              " 'e': 3,\n",
              " 'eu': 1,\n",
              " 'game': 1,\n",
              " 'gosto': 2,\n",
              " 'levy': 1,\n",
              " 'meu': 1,\n",
              " 'muito': 2,\n",
              " 'nome': 1,\n",
              " 'tenho': 1,\n",
              " 'video': 1,\n",
              " 'vindo': 1}"
            ]
          },
          "metadata": {
            "tags": []
          },
          "execution_count": 78
        }
      ]
    },
    {
      "cell_type": "code",
      "metadata": {
        "id": "DwznU1Xrh_TJ",
        "colab_type": "code",
        "outputId": "0a25a19d-2bb6-4153-9307-94fe1d26ff97",
        "colab": {
          "base_uri": "https://localhost:8080/",
          "height": 261
        }
      },
      "source": [
        "# \"defaultdict\" = utilizado para definir um valor padrao na criacao de um Dict\n",
        "from collections import defaultdict\n",
        "\n",
        "# defaultdict(int) = precisa de uma \"fábrica\" ou Função que defina o valor padrão a ser criado\n",
        "aparicoes = defaultdict(int) # \"int\" = retorna 0 quando chamada.\n",
        "\n",
        "for palavra in meu_texto.split():\n",
        "  ate_agora = aparicoes[palavra] # neste caso irá definir valor 0 (int) quando \"palavra\" não existir no Dict\n",
        "  aparicoes[palavra] = ate_agora + 1\n",
        "\n",
        "aparicoes"
      ],
      "execution_count": 0,
      "outputs": [
        {
          "output_type": "execute_result",
          "data": {
            "text/plain": [
              "defaultdict(int,\n",
              "            {'bem': 1,\n",
              "             'cachorro': 2,\n",
              "             'de': 2,\n",
              "             'e': 3,\n",
              "             'eu': 1,\n",
              "             'game': 1,\n",
              "             'gosto': 2,\n",
              "             'levy': 1,\n",
              "             'meu': 1,\n",
              "             'muito': 2,\n",
              "             'nome': 1,\n",
              "             'tenho': 1,\n",
              "             'video': 1,\n",
              "             'vindo': 1})"
            ]
          },
          "metadata": {
            "tags": []
          },
          "execution_count": 79
        }
      ]
    },
    {
      "cell_type": "code",
      "metadata": {
        "id": "7VtsMqsxkJL8",
        "colab_type": "code",
        "outputId": "5545d7df-0b8b-4d36-8872-b880b07b393a",
        "colab": {
          "base_uri": "https://localhost:8080/",
          "height": 33
        }
      },
      "source": [
        "# Exemplo de \"defaultdict\"\n",
        "\n",
        "dicionario = defaultdict(int)\n",
        "dicionario[\"Joao\"]"
      ],
      "execution_count": 0,
      "outputs": [
        {
          "output_type": "execute_result",
          "data": {
            "text/plain": [
              "0"
            ]
          },
          "metadata": {
            "tags": []
          },
          "execution_count": 80
        }
      ]
    },
    {
      "cell_type": "code",
      "metadata": {
        "id": "_iLzCyJBkdfr",
        "colab_type": "code",
        "outputId": "45759514-2969-4949-8763-cdb9b12518e9",
        "colab": {
          "base_uri": "https://localhost:8080/",
          "height": 33
        }
      },
      "source": [
        "dicionario[\"Joao\"] = 15\n",
        "dicionario[\"Joao\"]"
      ],
      "execution_count": 0,
      "outputs": [
        {
          "output_type": "execute_result",
          "data": {
            "text/plain": [
              "15"
            ]
          },
          "metadata": {
            "tags": []
          },
          "execution_count": 82
        }
      ]
    },
    {
      "cell_type": "code",
      "metadata": {
        "id": "FGQJOB-EkhO5",
        "colab_type": "code",
        "outputId": "b8a5f439-ebff-43f3-e0ec-9c7330ddd5f1",
        "colab": {
          "base_uri": "https://localhost:8080/",
          "height": 261
        }
      },
      "source": [
        "# Gerando um contador de palavras presentes no \"meu_texto\"\n",
        "aparicoes = defaultdict(int)\n",
        "\n",
        "for palavra in meu_texto.split():\n",
        "  aparicoes[palavra] += 1\n",
        "\n",
        "aparicoes"
      ],
      "execution_count": 0,
      "outputs": [
        {
          "output_type": "execute_result",
          "data": {
            "text/plain": [
              "defaultdict(int,\n",
              "            {'bem': 1,\n",
              "             'cachorro': 2,\n",
              "             'de': 2,\n",
              "             'e': 3,\n",
              "             'eu': 1,\n",
              "             'game': 1,\n",
              "             'gosto': 2,\n",
              "             'levy': 1,\n",
              "             'meu': 1,\n",
              "             'muito': 2,\n",
              "             'nome': 1,\n",
              "             'tenho': 1,\n",
              "             'video': 1,\n",
              "             'vindo': 1})"
            ]
          },
          "metadata": {
            "tags": []
          },
          "execution_count": 83
        }
      ]
    },
    {
      "cell_type": "code",
      "metadata": {
        "id": "i5tjcYegk-X6",
        "colab_type": "code",
        "colab": {}
      },
      "source": [
        "class Conta:\n",
        "  def __init__(self):\n",
        "    print(\"Criando uma Conta\")"
      ],
      "execution_count": 0,
      "outputs": []
    },
    {
      "cell_type": "code",
      "metadata": {
        "id": "krQWmjIrlMcQ",
        "colab_type": "code",
        "outputId": "e402fa2a-962f-4eba-9905-b97e0593514c",
        "colab": {
          "base_uri": "https://localhost:8080/",
          "height": 50
        }
      },
      "source": [
        "contas = defaultdict(Conta) # defaultdict utilizado para criar Contas, caso não exista\n",
        "contas[15]"
      ],
      "execution_count": 0,
      "outputs": [
        {
          "output_type": "stream",
          "text": [
            "Criando uma Conta\n"
          ],
          "name": "stdout"
        },
        {
          "output_type": "execute_result",
          "data": {
            "text/plain": [
              "<__main__.Conta at 0x7ff680b2cac8>"
            ]
          },
          "metadata": {
            "tags": []
          },
          "execution_count": 86
        }
      ]
    },
    {
      "cell_type": "code",
      "metadata": {
        "id": "P5mlfwTGlVYJ",
        "colab_type": "code",
        "outputId": "810c7624-af9c-49f2-c08b-37cf02b866e1",
        "colab": {
          "base_uri": "https://localhost:8080/",
          "height": 245
        }
      },
      "source": [
        "from collections import Counter\n",
        "\n",
        "aparicoes = Counter()\n",
        "\n",
        "for palavra in meu_texto.split():\n",
        "  aparicoes[palavra] += 1\n",
        "\n",
        "aparicoes"
      ],
      "execution_count": 0,
      "outputs": [
        {
          "output_type": "execute_result",
          "data": {
            "text/plain": [
              "Counter({'bem': 1,\n",
              "         'cachorro': 2,\n",
              "         'de': 2,\n",
              "         'e': 3,\n",
              "         'eu': 1,\n",
              "         'game': 1,\n",
              "         'gosto': 2,\n",
              "         'levy': 1,\n",
              "         'meu': 1,\n",
              "         'muito': 2,\n",
              "         'nome': 1,\n",
              "         'tenho': 1,\n",
              "         'video': 1,\n",
              "         'vindo': 1})"
            ]
          },
          "metadata": {
            "tags": []
          },
          "execution_count": 87
        }
      ]
    },
    {
      "cell_type": "code",
      "metadata": {
        "id": "lsMPGfejl48c",
        "colab_type": "code",
        "outputId": "99a58841-f363-4a1b-e38e-5c09d670984b",
        "colab": {
          "base_uri": "https://localhost:8080/",
          "height": 245
        }
      },
      "source": [
        "aparicoes = Counter(meu_texto.split())\n",
        "aparicoes"
      ],
      "execution_count": 0,
      "outputs": [
        {
          "output_type": "execute_result",
          "data": {
            "text/plain": [
              "Counter({'bem': 1,\n",
              "         'cachorro': 2,\n",
              "         'de': 2,\n",
              "         'e': 3,\n",
              "         'eu': 1,\n",
              "         'game': 1,\n",
              "         'gosto': 2,\n",
              "         'levy': 1,\n",
              "         'meu': 1,\n",
              "         'muito': 2,\n",
              "         'nome': 1,\n",
              "         'tenho': 1,\n",
              "         'video': 1,\n",
              "         'vindo': 1})"
            ]
          },
          "metadata": {
            "tags": []
          },
          "execution_count": 88
        }
      ]
    },
    {
      "cell_type": "markdown",
      "metadata": {
        "id": "YpEaxDWJmMvj",
        "colab_type": "text"
      },
      "source": [
        "# __Chapter 5__ - Praticing"
      ]
    },
    {
      "cell_type": "code",
      "metadata": {
        "id": "1VwGm9Rtl_07",
        "colab_type": "code",
        "colab": {}
      },
      "source": [
        "texto1 = \"\"\"\n",
        "Quando estamos trabalhando com dados,principalmente na fase de mineração, realizamos muitas mudanças no dataset.\n",
        "\n",
        "Existem colunas que não queremos, ou precisamos usar, ou linhas que não contém dados válidos que precisam ser removidas.\n",
        "\n",
        "Mas quantos mais dados não é melhor?\n",
        "\n",
        "Quando estamos analisando dados, principalmente para treinar modelos de inteligência artificial, alguns dados podem prejudicar ao invés de ajudar. Por isso, temos que utilizar apenas os dados que fazem sentido para o modelo.\n",
        "\n",
        "Legal! Já sabemos que precisamos tratar os dados, mas como podemos fazer isso, como remover os dados?\n",
        "\n",
        "Nesse quesito, confesso que eu sou o principal culpado dentro do grupo em que trabalho. Trago ideias o tempo inteiro, redesenho roadmaps com alguma frequência (alguns mantenho como drafts, ufa) e implemento funcionalidades que não acompanho o resultado.\n",
        "\n",
        "Uma parte disso não há como evitar, outra parte é papel do time, da equipe de produtos, do UX, de questionar a liderança para encontrar uma estratégia de produto.\n",
        "\n",
        "Entregar valor de forma constante é muito mais importante que número de cards arrastadas no Trello ou de tickets fechados no Jira/Github. Pode parecer uma frase óbvia, mas frequentemente caímos nessa situação. Se estamos trabalhando em uma feature que não sabemos se dará resultado, talvez seja até melhor não fazê-la.\n",
        "\"\"\""
      ],
      "execution_count": 0,
      "outputs": []
    },
    {
      "cell_type": "code",
      "metadata": {
        "id": "WZdH8l2RnHob",
        "colab_type": "code",
        "colab": {}
      },
      "source": [
        "texto2 = \"\"\"\n",
        "A experiência do usuário não pode e nem deve ser avaliada apenas desse ponto de vista.\n",
        "\n",
        "Existe um viés de confirmação implícito que sugere que UX Design é pensada apenas para soluções de tecnologia. Isso confunde as pessoas que estão entrando agora na área ou mesmo as que já estão, mas que ainda não refletiram com profundidade sobre o que experiência significa.\n",
        "\n",
        "No curso de Design Thinking da Caelum ministrada pela Carla de Bona, ela mostrou um exemplo do quão abrangente pode ser uma solução pensada na experiência das pessoas. O Exemplo usa a tecnologia como suporte, não como alvo.\n",
        "\n",
        "O exemplo apresentado pela Carla é de surpreender. A solução usa a capacidade da tecnologia de Realidade Virtual ou VR para transformar o processo de vacinação de crianças em algo divertido.\n",
        "\n",
        "Para quem estiver curioso sobre a solução, há um vídeo de apresentação da mesma no YouTube\n",
        "Quando nos desapegamos do enviesamento comum de pensar em sites e aplicativos revolucionários, podemos pensar em soluções de impacto que podem ou não serem tecnológicas, mas que com certeza podem tornar a vida das pessoas mais agradáveis.\n",
        "\n",
        "E você? Como tem observado o mundo ao seu redor e como essa observação tem levado seus pensamos a iniciarem com frases do tipo: “Se … fosse da seguinte forma, … , seria muito melhor”.\n",
        "\n",
        "Em suma, a direção é essa. Não se trata de tecnologia de forma isolada. É sobre pessoas, sobre suas dores e insatisfação. A solução pode ser um aplicativo ou site? Sim, mas também pode ser simplesmente como falamos com as pessoas.\n",
        "\n",
        "Fica a reflexão.\n",
        "\"\"\""
      ],
      "execution_count": 0,
      "outputs": []
    },
    {
      "cell_type": "code",
      "metadata": {
        "id": "MFmPeAhInRS_",
        "colab_type": "code",
        "colab": {}
      },
      "source": [
        "aparicoes = Counter(texto1.lower()) # Faz a contagem de quantas vezes cada \"letra\" (caractere) apareceu no text1\n",
        "total_caracteres = sum(aparicoes.values()) # Soma a quantidade de caracteres que apareceram no testo"
      ],
      "execution_count": 0,
      "outputs": []
    },
    {
      "cell_type": "code",
      "metadata": {
        "id": "IDjCHZ34n0AV",
        "colab_type": "code",
        "colab": {}
      },
      "source": [
        "# Estamos interessados em verificar a taxa (%) de aparicoes da letra \"a\" no texto1\n",
        "\n",
        "for letra, frequencia in aparicoes.items():\n",
        "  tupla = (letra, frequencia / total_caracteres)\n",
        "  print(tupla)"
      ],
      "execution_count": 0,
      "outputs": []
    },
    {
      "cell_type": "code",
      "metadata": {
        "id": "w15Njwp3o9fq",
        "colab_type": "code",
        "colab": {}
      },
      "source": [
        "# Estamos interessados em verificar a taxa (%) de aparicoes da letra \"a\" no texto1\n",
        "def analisa_frequen_de_letras(texto):\n",
        "  aparicoes = Counter(texto.lower())\n",
        "  total_caracteres = sum(aparicoes.values())\n",
        "  proporcoes = [(letra, frequencia / total_caracteres) for letra, frequencia in aparicoes.items()]\n",
        "\n",
        "  proporcoes = Counter(dict(proporcoes))\n",
        "  mais_comuns = proporcoes.most_common(10)\n",
        "  for caractere, proporcao in mais_comuns:\n",
        "    print(f\"{caractere} => {proporcao*100 :.2f}%\")"
      ],
      "execution_count": 0,
      "outputs": []
    },
    {
      "cell_type": "code",
      "metadata": {
        "id": "gZS2AMJRpkNr",
        "colab_type": "code",
        "outputId": "2df6ba9b-8ced-42d2-a609-1d600b56c3bf",
        "colab": {
          "base_uri": "https://localhost:8080/",
          "height": 180
        }
      },
      "source": [
        "analisa_frequen_de_letras(texto=texto2)"
      ],
      "execution_count": 0,
      "outputs": [
        {
          "output_type": "stream",
          "text": [
            "  => 15.43%\n",
            "a => 9.74%\n",
            "e => 9.61%\n",
            "o => 8.25%\n",
            "r => 5.82%\n",
            "t => 5.55%\n",
            "s => 5.28%\n",
            "n => 4.47%\n",
            "u => 4.47%\n",
            "d => 4.06%\n"
          ],
          "name": "stdout"
        }
      ]
    },
    {
      "cell_type": "code",
      "metadata": {
        "id": "ZZsND94eq-DG",
        "colab_type": "code",
        "outputId": "b851a409-bee7-4106-d2cc-bc61a7ee049f",
        "colab": {
          "base_uri": "https://localhost:8080/",
          "height": 180
        }
      },
      "source": [
        "analisa_frequen_de_letras(texto=texto1)"
      ],
      "execution_count": 0,
      "outputs": [
        {
          "output_type": "stream",
          "text": [
            "  => 14.83%\n",
            "a => 10.06%\n",
            "o => 8.64%\n",
            "e => 8.64%\n",
            "s => 6.71%\n",
            "r => 5.29%\n",
            "d => 4.77%\n",
            "n => 4.47%\n",
            "t => 4.47%\n",
            "m => 4.32%\n"
          ],
          "name": "stdout"
        }
      ]
    },
    {
      "cell_type": "code",
      "metadata": {
        "id": "6J_Tse9Drjog",
        "colab_type": "code",
        "colab": {}
      },
      "source": [
        ""
      ],
      "execution_count": 0,
      "outputs": []
    }
  ]
}